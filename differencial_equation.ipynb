{
 "cells": [
  {
   "cell_type": "markdown",
   "metadata": {},
   "source": [
    "# Differencial equations"
   ]
  },
  {
   "cell_type": "markdown",
   "metadata": {},
   "source": [
    "## Numerical integration"
   ]
  },
  {
   "cell_type": "markdown",
   "metadata": {},
   "source": [
    "This part cover the chapter 1.8 page 36 to 52 of the book \"Orbital mechanics for Engineering Students\" (ISBN: 978-0-08-097747-a)"
   ]
  },
  {
   "cell_type": "markdown",
   "metadata": {},
   "source": [
    "In the book the presented example is a system with a masse, a string and a damper. "
   ]
  },
  {
   "cell_type": "markdown",
   "metadata": {},
   "source": [
    "The equation of the model is the following:\n",
    "$$ \\ddot{x} + 2\\zeta \\omega_n\\dot{x} + \\omega_n^2 x = \\frac{F(t)}{m} $$\n",
    "$F(t)$ is a sinusoidal force of an amplitufe of $F_0$ and a circular frequency of $\\omega$."
   ]
  },
  {
   "cell_type": "markdown",
   "metadata": {},
   "source": [
    "The solution of this differential equation is:\n",
    "$$ x = e^{-\\zeta \\omega_n t} (A\\sin{\\omega_d t}+ B\\cos{\\omega_d t})\n",
    "    + \\frac{F_0/m}{(\\omega_n^2 - \\omega^2)^2 + (2\\omega \\omega_n \\zeta)^2}\n",
    "    [(\\omega_n^2 - \\omega^2)\\sin{\\omega t} - 2 \\omega \\omega_n \\zeta \\cos{\\omega t}]$$\n",
    "With\n",
    "$$ A = \\zeta \\frac{\\omega_n}{\\omega_d} x_0 + \\frac{\\dot{x}_0}{\\omega_d}\n",
    "    + \\frac{\\omega^2 + (2\\zeta^2 - 1)\\omega_n^2}\n",
    "           {(\\omega_n^2 - \\omega^2)^2 + (2\\omega\\omega_n \\zeta)^2}\n",
    "    \\frac{\\omega}{\\omega_d}\n",
    "    \\frac{F_0}{m}$$\n",
    "    \n",
    "and\n",
    "$$ B = x_0 + \\frac{2 \\omega \\omega_n \\zeta}{(\\omega_n^2 - \\omega^2)^2 + (2 \\omega \\omega_n \\zeta)^2}\n",
    "        \\frac{F_0}{m}$$\n",
    "        \n",
    "with $$ \\omega_d = \\omega_n \\sqrt{1-\\zeta^2}$$"
   ]
  },
  {
   "cell_type": "markdown",
   "metadata": {},
   "source": [
    "### Example"
   ]
  },
  {
   "cell_type": "markdown",
   "metadata": {},
   "source": [
    "Example for t=0 to t=110\n",
    "\n",
    "$ m = 1 kg$\n",
    "\n",
    "$\\omega_n = 1 rad/s $\n",
    "\n",
    "$\\zeta = 0.03 $\n",
    "\n",
    "$F_0 = 1N $\n",
    "\n",
    "$\\omega = 0.4 rad/s $\n",
    "\n",
    "and for initial condition $x = \\dot{x} =0 $"
   ]
  },
  {
   "cell_type": "markdown",
   "metadata": {},
   "source": [
    "Representation with Python"
   ]
  },
  {
   "cell_type": "code",
   "execution_count": 30,
   "metadata": {},
   "outputs": [
    {
     "data": {
      "image/png": "[encoded data removed]",
      "text/plain": [
       "<matplotlib.figure.Figure at 0x7fb700c88e80>"
      ]
     },
     "metadata": {},
     "output_type": "display_data"
    }
   ],
   "source": [
    "import numpy as np\n",
    "import math\n",
    "import matplotlib.pyplot as plt\n",
    "\n",
    "def general_x(t, x_0, xdot_0,  m, zeta, omega_n, omega, F_0):\n",
    "    omega_d = omega_n * math.sqrt(1-zeta**2)\n",
    "    \n",
    "    A = zeta*(omega_n/omega_d)*x_0 + xdot_0 / omega_d \\\n",
    "    + (omega**2 + (2*zeta**2 - 1)*omega_n**2) / (((omega_n**2 - omega**2)**2 + (2*omega*omega_n*zeta)**2)) \\\n",
    "    * (omega / omega_d) * (F_0 / m)\n",
    "    \n",
    "    B = x_0 + ((2*omega*omega_n*zeta) / (((omega_n**2 - omega**2)**2 + (2*omega*omega_n*zeta)**2))) * (F_0 / m)\n",
    "    \n",
    "    y = math.exp(-zeta * omega_n * t)*(A*math.sin(omega_d*t) + B*math.cos(omega_d*t)) \\\n",
    "        + ((F_0 / m)/((omega_n**2 - omega**2)**2 + (2*omega*omega_n*zeta)**2)) \\\n",
    "        * ((omega_n**2 - omega**2) * math.sin(omega*t) - (2*omega*omega_n*zeta*math.cos(omega*t)))\n",
    "    return y\n",
    "\n",
    "def x(t=0):\n",
    "    x_0 = 0\n",
    "    xdot_0 = 0\n",
    "    m = 1\n",
    "    zeta = 0.03\n",
    "    omega = 0.4\n",
    "    omega_n = 1\n",
    "    F_0 = 1\n",
    "    \n",
    "    return general_x(t, x_0, xdot_0,  m, zeta, omega_n, omega, F_0)\n",
    "\n",
    "t0 = 0.0\n",
    "t_end = 110.0\n",
    "step = 0.1\n",
    "\n",
    "y_exact = []\n",
    "\n",
    "t = np.arange(t0, t_end, step)\n",
    "\n",
    "for i in t:\n",
    "    y_exact.append(x(i))\n",
    "\n",
    "plt.plot(t, y_exact)\n",
    "plt.show()"
   ]
  },
  {
   "cell_type": "markdown",
   "metadata": {},
   "source": [
    "## Runge-Kutta Algorithm"
   ]
  },
  {
   "cell_type": "markdown",
   "metadata": {},
   "source": [
    "Please refere to page 41 for the details."
   ]
  },
  {
   "cell_type": "code",
   "execution_count": 2,
   "metadata": {
    "collapsed": true
   },
   "outputs": [],
   "source": [
    "def rk1_4(ode_function, tspan, y0, h, rk):\n",
    "    '''Runge_Kutta numerical integration algorithm\n",
    "    \n",
    "    Parameters:\n",
    "        ode_function: derivate of f\n",
    "        tspan: vector [t0, tf] giving the time interval for the solution\n",
    "        y0: vector of the initial value of y\n",
    "        h: time step\n",
    "        rk: rank from 1 to 4 (RK1 Euler's method, RK2 Heun's method, RK3, RK4)'''\n",
    "    \n",
    "    if rk == 1:\n",
    "        n_stage = 1\n",
    "        a = np.array((0,))\n",
    "        b = np.array((0,))\n",
    "        c = np.array((1,))\n",
    "    elif rk == 2:\n",
    "        n_stage = 2\n",
    "        a = np.array( (0, 1.0) )\n",
    "        b = np.array( ((0, 1.0), \\\n",
    "                       (0, 0)) ) \n",
    "        c = np.array( (1/2.0, 1/2.0) )\n",
    "    elif rk == 3:\n",
    "        n_stage = 3\n",
    "        a = np.array( (0, 1/2.0, 1) )\n",
    "        b = np.array( ((0, 0), \\\n",
    "            (1/2.0, 0), \\\n",
    "            (-1.0, 2.0)) )\n",
    "        c = np.array( (1/6.0, 2/3.0, 1/6.0) )\n",
    "    elif rk == 4:\n",
    "        n_stage = 4\n",
    "        a = np.array( (0, 1/2.0, 1/2.0, 1) )\n",
    "        b = np.array( ((0, 0, 0), \\\n",
    "            (1/2.0, 0, 0), \\\n",
    "            (0, 1/2.0, 0), \\\n",
    "            (0, 0, 1.0)) )\n",
    "        c = np.array( (1/6.0, 1/3.0, 1/3.0, 1/6.0))\n",
    "    else:\n",
    "        raise ValueError('The rank must be 1 ,2 ,3 or 4.')\n",
    "    \n",
    "    t0 = tspan[0]\n",
    "    tf = tspan[1]\n",
    "    t = t0\n",
    "    y = np.array(y0)\n",
    "    tout = [t]\n",
    "    yout = [y]\n",
    "    \n",
    "    while t < tf:\n",
    "        f = []\n",
    "        ti = t\n",
    "        yi = y\n",
    "        for i in range(1, n_stage+1):\n",
    "            t_inner = ti + a[i-1]*h\n",
    "            y_inner = yi\n",
    "            for j in range(1, i):\n",
    "                y_inner = y_inner + h*b[i-1][j-1] * f[j-1]\n",
    "            f.append(ode_function(t_inner, y_inner))\n",
    "        \n",
    "        fmat = np.array(f).T\n",
    "        yimat = yi\n",
    "        y = yimat + h * np.dot(fmat, c.reshape(len(c), 1)).T[0]\n",
    "        tout.append(t)\n",
    "        yout.append(y)\n",
    "        h = min(h, tf - t)\n",
    "        t = t + h\n",
    "    \n",
    "    return tout, yout"
   ]
  },
  {
   "cell_type": "code",
   "execution_count": 3,
   "metadata": {
    "collapsed": true
   },
   "outputs": [],
   "source": [
    "def rates(t, f):\n",
    "    #print(\"f =\" ,f)\n",
    "    #print(\"t =\", t)\n",
    "    #print(\"---------------\")\n",
    "    x = f[0]\n",
    "    Dx = f[1]\n",
    "    \n",
    "    m = 1\n",
    "    z = 0.03\n",
    "    wn = 1\n",
    "    Fo = 1\n",
    "    w = 0.4*wn\n",
    "    \n",
    "    D2x = Fo/m*math.sin(w*t) - 2*z*wn*Dx - x*wn**2\n",
    "    \n",
    "    #print(\"x = \", x, \" Dx = \", Dx, \" D2x = \", D2x)\n",
    "    \n",
    "    return np.array((Dx, D2x))\n",
    "\n",
    "sol = rk1_4(rates, [0, 110], [0.0, 0.0], 1, 4)"
   ]
  },
  {
   "cell_type": "code",
   "execution_count": 4,
   "metadata": {},
   "outputs": [
    {
     "data": {
      "text/plain": [
       "110"
      ]
     },
     "execution_count": 4,
     "metadata": {},
     "output_type": "execute_result"
    }
   ],
   "source": [
    "len(sol[1][:-1])"
   ]
  },
  {
   "cell_type": "code",
   "execution_count": 5,
   "metadata": {},
   "outputs": [
    {
     "data": {
      "text/plain": [
       "[array([ 0.,  0.]),\n",
       " array([ 0.06522976,  0.17687971]),\n",
       " array([ 0.41123717,  0.50462965]),\n",
       " array([ 0.99748467,  0.60718207]),\n",
       " array([ 1.47683426,  0.29382042]),\n",
       " array([ 1.4920226 , -0.26782765]),\n",
       " array([ 0.98093143, -0.70188004]),\n",
       " array([ 0.22364537, -0.74703882]),\n",
       " array([-0.3943705 , -0.46050953]),\n",
       " array([-0.68093559, -0.13498627]),\n",
       " array([-0.73880317, -0.02286032]),\n",
       " array([-0.80305173, -0.12321504]),\n",
       " array([-0.98316493, -0.21329065]),\n",
       " array([-1.14930382, -0.07802206]),\n",
       " array([-1.05684558,  0.28022823]),\n",
       " array([-0.58457558,  0.63779019]),\n",
       " array([ 0.13266804,  0.74429795]),\n",
       " array([ 0.79154216,  0.5341604 ]),\n",
       " array([ 1.14372236,  0.16980179]),\n",
       " array([ 1.15857376, -0.10951434]),\n",
       " array([ 0.99453453, -0.18847477]),\n",
       " array([ 0.82378514, -0.14885457]),\n",
       " array([ 0.67772626, -0.16264174]),\n",
       " array([ 0.4478025 , -0.31461424]),\n",
       " array([ 0.02738625, -0.51804903]),\n",
       " array([-0.54523117, -0.59365869]),\n",
       " array([-1.07608537, -0.43276549]),\n",
       " array([-1.34599483, -0.09588493]),\n",
       " array([-1.26609184,  0.23663009]),\n",
       " array([-0.92634932,  0.41090349]),\n",
       " array([-0.50507751,  0.41100621]),\n",
       " array([-0.12817359,  0.34359954]),\n",
       " array([ 0.19839839,  0.32102237]),\n",
       " array([ 0.53487358,  0.35468031]),\n",
       " array([ 0.89612894,  0.35277083]),\n",
       " array([ 1.19267   ,  0.21708718]),\n",
       " array([ 1.28009137, -0.05423912]),\n",
       " array([ 1.07192994, -0.35114464]),\n",
       " array([ 0.61535744, -0.53416322]),\n",
       " array([ 0.06524692, -0.53940234]),\n",
       " array([-0.4175804 , -0.41540266]),\n",
       " array([-0.75603533, -0.26640888]),\n",
       " array([-0.96469817, -0.15922701]),\n",
       " array([-1.08314974, -0.07753042]),\n",
       " array([-1.10579209,  0.04117257]),\n",
       " array([-0.97529232,  0.22666029]),\n",
       " array([-0.64335684,  0.43056614]),\n",
       " array([-0.13982933,  0.55536772]),\n",
       " array([ 0.41539023,  0.53025112]),\n",
       " array([ 0.87101688,  0.36615789]),\n",
       " array([ 1.12566849,  0.14397391]),\n",
       " array([ 1.16737371, -0.04974763]),\n",
       " array([ 1.04675847, -0.18136926]),\n",
       " array([ 0.81688742, -0.27485394]),\n",
       " array([ 0.49662212, -0.36546881]),\n",
       " array([ 0.08644497, -0.44997049]),\n",
       " array([-0.38545518, -0.48007106]),\n",
       " array([-0.83647469, -0.40385902]),\n",
       " array([-1.15279139, -0.21619941]),\n",
       " array([-1.24707537,  0.027442  ]),\n",
       " array([-1.10472118,  0.24535729]),\n",
       " array([-0.78333753,  0.38161878]),\n",
       " array([-0.37045188,  0.43230864]),\n",
       " array([ 0.06269389,  0.42803268]),\n",
       " array([ 0.47560689,  0.3937845 ]),\n",
       " array([ 0.83815159,  0.32464093]),\n",
       " array([ 1.10406687,  0.19796601]),\n",
       " array([ 1.21028319,  0.00800345]),\n",
       " array([ 1.10756707, -0.21115225]),\n",
       " array([ 0.79755003, -0.39657611]),\n",
       " array([ 0.34404591, -0.4929485 ]),\n",
       " array([-0.15207783, -0.48398194]),\n",
       " array([-0.59548426, -0.39422917]),\n",
       " array([-0.92550417, -0.26325743]),\n",
       " array([-1.11572751, -0.11696738]),\n",
       " array([-1.1545173 ,  0.03970144]),\n",
       " array([-1.03120753,  0.20602706]),\n",
       " array([-0.74333673,  0.3641541 ]),\n",
       " array([-0.31746097,  0.47560554]),\n",
       " array([ 0.17867244,  0.5007067 ]),\n",
       " array([ 0.64859299,  0.42480264]),\n",
       " array([ 0.99945592,  0.26917454]),\n",
       " array([ 1.17310041,  0.07815935]),\n",
       " array([ 1.15657536, -0.10590503]),\n",
       " array([ 0.97031995, -0.25953209]),\n",
       " array([ 0.64906519, -0.37569403]),\n",
       " array([ 0.23253221, -0.44902387]),\n",
       " array([-0.23007685, -0.46557284]),\n",
       " array([-0.67294047, -0.40814018]),\n",
       " array([-1.01831837, -0.2726199 ]),\n",
       " array([-1.19671288, -0.08010904]),\n",
       " array([-1.17146158,  0.12703971]),\n",
       " array([-0.95153869,  0.30323262]),\n",
       " array([-0.58484258,  0.41820412]),\n",
       " array([-0.13851475,  0.46323064]),\n",
       " array([ 0.31950532,  0.44342669]),\n",
       " array([ 0.72818707,  0.36602365]),\n",
       " array([ 1.03255059,  0.23618116]),\n",
       " array([ 1.18409462,  0.06312839]),\n",
       " array([ 1.14952945, -0.13111888]),\n",
       " array([ 0.92485588, -0.31098688]),\n",
       " array([ 0.54429858, -0.43796117]),\n",
       " array([ 0.07543584, -0.48589829]),\n",
       " array([-0.39864264, -0.45022761]),\n",
       " array([-0.80051476, -0.34542262]),\n",
       " array([-1.07246571, -0.19456046]),\n",
       " array([-1.18000454, -0.02010705]),\n",
       " array([-1.10971673,  0.15790589]),\n",
       " array([-0.86858899,  0.31803435]),\n",
       " array([-0.48703553,  0.43502272]),\n",
       " array([-0.0210533 ,  0.48422184])]"
      ]
     },
     "execution_count": 5,
     "metadata": {},
     "output_type": "execute_result"
    }
   ],
   "source": [
    "sol[1]"
   ]
  },
  {
   "cell_type": "code",
   "execution_count": 6,
   "metadata": {},
   "outputs": [
    {
     "data": {
      "image/png": "[encoded data removed]",
      "text/plain": [
       "<matplotlib.figure.Figure at 0x7fb72c6e9cc0>"
      ]
     },
     "metadata": {},
     "output_type": "display_data"
    }
   ],
   "source": [
    "t = sol[0][:-1]\n",
    "y = []\n",
    "for i in sol[1][:-1]:\n",
    "    y.append(i[0])\n",
    "\n",
    "plt.plot(t, y_exact)\n",
    "plt.plot(t, y)\n",
    "plt.show()"
   ]
  },
  {
   "cell_type": "markdown",
   "metadata": {
    "collapsed": true
   },
   "source": [
    "## Heun's Predicator"
   ]
  },
  {
   "cell_type": "markdown",
   "metadata": {
    "collapsed": true
   },
   "source": [
    "Please refere to page 47"
   ]
  },
  {
   "cell_type": "code",
   "execution_count": 12,
   "metadata": {},
   "outputs": [],
   "source": [
    "def heun(ode_function, tspan, y0, h):\n",
    "    '''Heun's numerical integration algorithm\n",
    "    \n",
    "    Parameters:\n",
    "        ode_function: derivate of f\n",
    "        tspan: vector [t0, tf] giving the time interval for the solution\n",
    "        y0: vector of the initial value of y\n",
    "        h: time step\n",
    "    '''\n",
    "    tol = 1.0e-6\n",
    "    itermax = 100\n",
    "    \n",
    "    t0 = tspan[0]\n",
    "    tf = tspan[1]\n",
    "    t = t0\n",
    "    y = y0\n",
    "    tout = [t]\n",
    "    yout = [y]\n",
    "    \n",
    "    while t < tf:\n",
    "        #h = min(t, tf - t)\n",
    "        t1 = t\n",
    "        y1 = y\n",
    "        f1 = ode_function(t1, y1)\n",
    "        y2 = y1 + f1*h\n",
    "        t2 = t1 + h\n",
    "        err = tol + 1\n",
    "        iteration = 0\n",
    "        while (err > tol) and (iteration <= itermax):\n",
    "            y2p = y2\n",
    "            f2 = ode_function(t2, y2p)\n",
    "            favg = (f1 + f2) / 2.0\n",
    "            y2 = y1 + favg * h\n",
    "            err = max(abs(y2 - y2p)/(y2 + np.spacing(1)))\n",
    "            iteration = iteration + 1\n",
    "            \n",
    "        if iteration > itermax:\n",
    "            raise ValueError('Iteration limit reached')\n",
    "        \n",
    "        t = t + h\n",
    "        y = y2\n",
    "        tout.append(t)\n",
    "        yout.append(y)\n",
    "    \n",
    "    return tout, yout"
   ]
  },
  {
   "cell_type": "code",
   "execution_count": 31,
   "metadata": {},
   "outputs": [],
   "source": [
    "sol_heun = heun(rates, [0, 110], [0.0, 0.0], 0.1,)"
   ]
  },
  {
   "cell_type": "code",
   "execution_count": 33,
   "metadata": {},
   "outputs": [
    {
     "data": {
      "text/plain": [
       "1101"
      ]
     },
     "execution_count": 33,
     "metadata": {},
     "output_type": "execute_result"
    }
   ],
   "source": [
    "len(sol_heun[0][:-1])"
   ]
  },
  {
   "cell_type": "code",
   "execution_count": 35,
   "metadata": {},
   "outputs": [
    {
     "data": {
      "image/png": "[encoded data removed]",
      "text/plain": [
       "<matplotlib.figure.Figure at 0x7fb700a7b2b0>"
      ]
     },
     "metadata": {},
     "output_type": "display_data"
    }
   ],
   "source": [
    "t = sol_heun[0][:-2]\n",
    "y = []\n",
    "for i in sol_heun[1][:-2]:\n",
    "    y.append(i[0])\n",
    "\n",
    "plt.plot(t, y_exact)\n",
    "plt.plot(t, y)\n",
    "plt.show()"
   ]
  },
  {
   "cell_type": "code",
   "execution_count": null,
   "metadata": {
    "collapsed": true
   },
   "outputs": [],
   "source": []
  }
 ],
 "metadata": {
  "kernelspec": {
   "display_name": "Python 3",
   "language": "python",
   "name": "python3"
  },
  "language_info": {
   "codemirror_mode": {
    "name": "ipython",
    "version": 3
   },
   "file_extension": ".py",
   "mimetype": "text/x-python",
   "name": "python",
   "nbconvert_exporter": "python",
   "pygments_lexer": "ipython3",
   "version": "3.5.2"
  }
 },
 "nbformat": 4,
 "nbformat_minor": 2
}
