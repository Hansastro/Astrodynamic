{
 "cells": [
  {
   "cell_type": "markdown",
   "metadata": {},
   "source": [
    "# Differencial equations"
   ]
  },
  {
   "cell_type": "markdown",
   "metadata": {},
   "source": [
    "## Numerical integration"
   ]
  },
  {
   "cell_type": "markdown",
   "metadata": {},
   "source": [
    "This part cover the chapter 1.8 page 36 to 52 of the book \"Orbital mechanics for Engineering Students\" (ISBN: 978-0-08-097747-a)"
   ]
  },
  {
   "cell_type": "markdown",
   "metadata": {},
   "source": [
    "In the book the presented example is a system with a masse, a string and a damper. "
   ]
  },
  {
   "cell_type": "markdown",
   "metadata": {},
   "source": [
    "The equation of the model is the following:\n",
    "$$ \\ddot{x} + 2\\zeta \\omega_n\\dot{x} + \\omega_n^2 x = \\frac{F(t)}{m} $$\n",
    "$F(t)$ is a sinusoidal force of an amplitufe of $F_0$ and a circular frequency of $\\omega$."
   ]
  },
  {
   "cell_type": "markdown",
   "metadata": {},
   "source": [
    "The solution of this differential equation is:\n",
    "$$ x = e^{-\\zeta \\omega_n t} (A\\sin{\\omega_d t}+ B\\cos{\\omega_d t})\n",
    "    + \\frac{F_0/m}{(\\omega_n^2 - \\omega^2)^2 + (2\\omega \\omega_n \\zeta)^2}\n",
    "    [(\\omega_n^2 - \\omega^2)\\sin{\\omega t} - 2 \\omega \\omega_n \\zeta \\cos{\\omega t}]$$\n",
    "With\n",
    "$$ A = \\zeta \\frac{\\omega_n}{\\omega_d} x_0 + \\frac{\\dot{x}_0}{\\omega_d}\n",
    "    + \\frac{\\omega^2 + (2\\zeta^2 - 1)\\omega_n^2}\n",
    "           {(\\omega_n^2 - \\omega^2)^2 + (2\\omega\\omega_n \\zeta)^2}\n",
    "    \\frac{\\omega}{\\omega_d}\n",
    "    \\frac{F_0}{m}$$\n",
    "and\n",
    "$$ B = x_0 + \\frac{2 \\omega \\omega_n \\zeta}{(\\omega_n^2 - \\omega^2)^2 + (2 \\omega \\omega_n \\zeta)^2}\n",
    "        \\frac{F_0}{m}$$\n",
    "with $ \\omega_d = \\omega_n \\sqrt{1-\\zeta^2}$"
   ]
  },
  {
   "cell_type": "markdown",
   "metadata": {},
   "source": [
    "### Example"
   ]
  },
  {
   "cell_type": "markdown",
   "metadata": {},
   "source": [
    "Example for t=0 to t=110\n",
    "\n",
    "$ m = 1 kg$\n",
    "\n",
    "$\\omega_n = 1 rad/s $\n",
    "\n",
    "$\\zeta = 0.03 $\n",
    "\n",
    "$F_0 = 1N $\n",
    "\n",
    "$\\omega = 0.4 rad/s $\n",
    "\n",
    "and for initial condition $x = \\dot{x} =0 $"
   ]
  },
  {
   "cell_type": "markdown",
   "metadata": {},
   "source": [
    "Representation with Python"
   ]
  },
  {
   "cell_type": "code",
   "execution_count": 1,
   "metadata": {},
   "outputs": [
    {
     "data": {
      "image/png": "[encoded data removed]",
      "text/plain": [
       "<matplotlib.figure.Figure at 0x7efffa665898>"
      ]
     },
     "metadata": {},
     "output_type": "display_data"
    }
   ],
   "source": [
    "import numpy as np\n",
    "import math\n",
    "import matplotlib.pyplot as plt\n",
    "\n",
    "def general_x(t, x_0, xdot_0,  m, zeta, omega_n, omega, F_0):\n",
    "    omega_d = omega_n * math.sqrt(1-zeta**2)\n",
    "    \n",
    "    A = zeta*(omega_n/omega_d)*x_0 + xdot_0 / omega_d \\\n",
    "    + (omega**2 + (2*zeta**2 - 1)*omega_n**2) / (((omega_n**2 - omega**2)**2 + (2*omega*omega_n*zeta)**2)) \\\n",
    "    * (omega / omega_d) * (F_0 / m)\n",
    "    \n",
    "    B = x_0 + ((2*omega*omega_n*zeta) / (((omega_n**2 - omega**2)**2 + (2*omega*omega_n*zeta)**2))) * (F_0 / m)\n",
    "    \n",
    "    y = math.exp(-zeta * omega_n * t)*(A*math.sin(omega_d*t) + B*math.cos(omega_d*t)) \\\n",
    "        + ((F_0 / m)/((omega_n**2 - omega**2)**2 + (2*omega*omega_n*zeta)**2)) \\\n",
    "        * ((omega_n**2 - omega**2) * math.sin(omega*t) - (2*omega*omega_n*zeta*math.cos(omega*t)))\n",
    "    return y\n",
    "\n",
    "def x(t=0):\n",
    "    x_0 = 0\n",
    "    xdot_0 = 0\n",
    "    m = 1\n",
    "    zeta = 0.03\n",
    "    omega = 0.4\n",
    "    omega_n = 1\n",
    "    F_0 = 1\n",
    "    \n",
    "    return general_x(t, x_0, xdot_0,  m, zeta, omega_n, omega, F_0)\n",
    "\n",
    "t0 = 0.0\n",
    "t_end = 110.0\n",
    "step = 0.1\n",
    "\n",
    "y = []\n",
    "\n",
    "# evenly sampled time at 200ms intervals\n",
    "t = np.arange(t0, t_end, step)\n",
    "\n",
    "for i in t:\n",
    "    y.append(x(i))\n",
    "\n",
    "# red dashes, blue squares and green triangles\n",
    "plt.plot(t, y)\n",
    "plt.show()"
   ]
  },
  {
   "cell_type": "code",
   "execution_count": null,
   "metadata": {},
   "outputs": [],
   "source": []
  }
 ],
 "metadata": {
  "kernelspec": {
   "display_name": "Python 3",
   "language": "python",
   "name": "python3"
  },
  "language_info": {
   "codemirror_mode": {
    "name": "ipython",
    "version": 3
   },
   "file_extension": ".py",
   "mimetype": "text/x-python",
   "name": "python",
   "nbconvert_exporter": "python",
   "pygments_lexer": "ipython3",
   "version": "3.5.2"
  }
 },
 "nbformat": 4,
 "nbformat_minor": 2
}
